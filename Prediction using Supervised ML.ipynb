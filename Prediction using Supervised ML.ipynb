{
 "cells": [
  {
   "cell_type": "markdown",
   "id": "08262378",
   "metadata": {},
   "source": [
    "### Installing all the libraries needed.\n"
   ]
  },
  {
   "cell_type": "code",
   "execution_count": 4,
   "id": "f3d1e909",
   "metadata": {},
   "outputs": [],
   "source": [
    "import pandas as pd\n",
    "import numpy as np\n",
    "import matplotlib.pyplot as plt\n",
    "%matplotlib inline"
   ]
  },
  {
   "cell_type": "markdown",
   "id": "2a9ba0b0",
   "metadata": {},
   "source": [
    "### Reading Data"
   ]
  },
  {
   "cell_type": "code",
   "execution_count": 2,
   "id": "2b0d20f5",
   "metadata": {},
   "outputs": [
    {
     "name": "stdout",
     "output_type": "stream",
     "text": [
      "   Hours  Scores\n",
      "0    2.5      21\n",
      "1    5.1      47\n",
      "2    3.2      27\n",
      "3    8.5      75\n",
      "4    3.5      30\n",
      "Data loaded successfully\n"
     ]
    }
   ],
   "source": [
    "link = 'http://bit.ly/w-data'\n",
    "df = pd.read_csv(link)\n",
    "print(df.head())\n",
    "\n",
    "print(\"Data loaded successfully\")"
   ]
  },
  {
   "cell_type": "markdown",
   "id": "7f193845",
   "metadata": {},
   "source": [
    "### Plotting graph to see any relation possible.\n",
    "#### Hours vs Score\n"
   ]
  },
  {
   "cell_type": "code",
   "execution_count": 7,
   "id": "320ce069",
   "metadata": {},
   "outputs": [
    {
     "data": {
      "image/png": "[encoded data removed]",
      "text/plain": [
       "<Figure size 432x288 with 1 Axes>"
      ]
     },
     "metadata": {
      "needs_background": "light"
     },
     "output_type": "display_data"
    }
   ],
   "source": [
    "df.plot(x='Hours', y='Scores', style='o')\n",
    "plt.title('Studyhours vs Score')\n",
    "plt.xlabel('Studyhours')\n",
    "plt.ylabel('Marks')\n",
    "plt.show()"
   ]
  },
  {
   "cell_type": "markdown",
   "id": "41af1f65",
   "metadata": {},
   "source": [
    "### As we can see there is a partial liner relation in both the fields"
   ]
  },
  {
   "cell_type": "markdown",
   "id": "683c22ac",
   "metadata": {},
   "source": [
    "# Data Preparation"
   ]
  },
  {
   "cell_type": "code",
   "execution_count": 13,
   "id": "f2539447",
   "metadata": {},
   "outputs": [],
   "source": [
    "att = df.iloc[:, :-1].values\n",
    "inp = df.iloc[:, 1].values"
   ]
  },
  {
   "cell_type": "markdown",
   "id": "eb70107c",
   "metadata": {},
   "source": [
    "## Spliting data into test and train sets by using built in function train test split function from sklearn"
   ]
  },
  {
   "cell_type": "code",
   "execution_count": 14,
   "id": "ffe1d853",
   "metadata": {},
   "outputs": [],
   "source": [
    "from sklearn.model_selection import train_test_split\n",
    "att_train, att_test, inp_train, inp_test = train_test_split(att, inp, test_size=0.4, random_state=0)\n"
   ]
  },
  {
   "cell_type": "markdown",
   "id": "7030a5e1",
   "metadata": {},
   "source": [
    "## Training Model"
   ]
  },
  {
   "cell_type": "code",
   "execution_count": 15,
   "id": "4f943ff0",
   "metadata": {},
   "outputs": [
    {
     "name": "stdout",
     "output_type": "stream",
     "text": [
      "Training Complete\n"
     ]
    }
   ],
   "source": [
    "from sklearn.linear_model import LinearRegression\n",
    "reg = LinearRegression()\n",
    "reg.fit(att_train, inp_train)\n",
    "\n",
    "print('Training Complete')"
   ]
  },
  {
   "cell_type": "markdown",
   "id": "752d7dfc",
   "metadata": {},
   "source": [
    "### Plotting Regression Line"
   ]
  },
  {
   "cell_type": "code",
   "execution_count": 16,
   "id": "82f2947b",
   "metadata": {},
   "outputs": [
    {
     "data": {
      "image/png": "[encoded data removed]",
      "text/plain": [
       "<Figure size 432x288 with 1 Axes>"
      ]
     },
     "metadata": {
      "needs_background": "light"
     },
     "output_type": "display_data"
    }
   ],
   "source": [
    "l = reg.coef_*att+reg.intercept_\n",
    "\n",
    "plt.scatter(att, inp)\n",
    "plt.plot(att, l)\n",
    "plt.show()"
   ]
  },
  {
   "cell_type": "markdown",
   "id": "659b5a76",
   "metadata": {},
   "source": [
    "### Model Testing"
   ]
  },
  {
   "cell_type": "code",
   "execution_count": 19,
   "id": "841560da",
   "metadata": {},
   "outputs": [
    {
     "name": "stdout",
     "output_type": "stream",
     "text": [
      "   Real  Predicted\n",
      "0    20  15.947762\n",
      "1    27  32.773947\n",
      "2    69  74.344523\n",
      "3    30  25.845518\n",
      "4    62  59.497889\n",
      "5    35  38.712601\n",
      "6    24  19.906864\n",
      "7    86  78.303625\n",
      "8    76  69.395645\n",
      "9    17  11.988659\n"
     ]
    }
   ],
   "source": [
    "pred = reg.predict(att_test)\n",
    "\n",
    "df1 = pd.DataFrame({'Real': inp_test, 'Predicted': pred})\n",
    "print(df1)"
   ]
  },
  {
   "cell_type": "markdown",
   "id": "965391dd",
   "metadata": {},
   "source": [
    "### Predicting a new Entry"
   ]
  },
  {
   "cell_type": "code",
   "execution_count": 37,
   "id": "69c98619",
   "metadata": {},
   "outputs": [
    {
     "name": "stdout",
     "output_type": "stream",
     "text": [
      "Studying hours = 9.25\n",
      "Percentage Predicted = 92.65537184734602\n"
     ]
    }
   ],
   "source": [
    "entry = 9.25\n",
    "ent = np.array([[entry]])\n",
    "en_pred = reg.predict(ent)\n",
    "print(\"Studying hours = {}\".format(entry))\n",
    "print(\"Percentage Predicted = {}\".format(en_pred[0]))"
   ]
  },
  {
   "cell_type": "markdown",
   "id": "bf87125e",
   "metadata": {},
   "source": [
    "## Model Evaluation"
   ]
  },
  {
   "cell_type": "code",
   "execution_count": 39,
   "id": "4fe5c369",
   "metadata": {},
   "outputs": [
    {
     "name": "stdout",
     "output_type": "stream",
     "text": [
      "Mean Absolute Error: 4.8945108634106065\n"
     ]
    }
   ],
   "source": [
    "from sklearn import metrics\n",
    "print(\"Mean Absolute Error:\", metrics.mean_absolute_error(inp_test, pred))"
   ]
  },
  {
   "cell_type": "code",
   "execution_count": null,
   "id": "e5b5a324",
   "metadata": {},
   "outputs": [],
   "source": []
  }
 ],
 "metadata": {
  "kernelspec": {
   "display_name": "Python 3",
   "language": "python",
   "name": "python3"
  },
  "language_info": {
   "codemirror_mode": {
    "name": "ipython",
    "version": 3
   },
   "file_extension": ".py",
   "mimetype": "text/x-python",
   "name": "python",
   "nbconvert_exporter": "python",
   "pygments_lexer": "ipython3",
   "version": "3.9.1"
  }
 },
 "nbformat": 4,
 "nbformat_minor": 5
}
