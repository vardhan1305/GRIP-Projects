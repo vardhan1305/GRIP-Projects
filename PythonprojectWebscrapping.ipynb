{
 "cells": [
  {
   "cell_type": "code",
   "execution_count": 16,
   "id": "7922c368",
   "metadata": {},
   "outputs": [
    {
     "name": "stdout",
     "output_type": "stream",
     "text": [
      "<title>Amazon.com, Inc. (AMZN) Stock Historical Prices &amp; Data - Yahoo Finance</title>\n"
     ]
    }
   ],
   "source": [
    "import pandas as pd\n",
    "import requests\n",
    "from bs4 import BeautifulSoup\n",
    "\n",
    "url='https://finance.yahoo.com/quote/AMZN/history?period1=1451606400%5C&period2=1612137600%5C&interval=1mo%5C&filter=history%5C&frequency=1mo%5C&includeAdjustedClose=true'\n",
    "html_data=requests.get(url)\n",
    "soup=BeautifulSoup(html_data.text,'html.parser')\n",
    "tag_object=soup.title\n",
    "print(tag_object)\n",
    "\n",
    "\n",
    "\n"
   ]
  },
  {
   "cell_type": "code",
   "execution_count": 13,
   "id": "51d10c2d",
   "metadata": {},
   "outputs": [
    {
     "name": "stdout",
     "output_type": "stream",
     "text": [
      "Empty DataFrame\n",
      "Columns: [Date, Open, High, Low, Close, Adjclose, Volume]\n",
      "Index: []\n"
     ]
    }
   ],
   "source": [
    "df=pd.DataFrame(columns=['Date','Open','High','Low','Close','Adjclose','Volume'])\n",
    "\n",
    "for row in soup.find(\"tbody\").find_all(\"tr\"):\n",
    "    col=row.find_all(\"td\")\n",
    "    date=col[o].text\n",
    "    open_o=col[1].text\n",
    "    high=col[2].text\n",
    "    low=col[3].text\n",
    "    close=col[4].text\n",
    "    adjclose=col[5].text\n",
    "    volume=col[6].text\n",
    "    \n",
    "    df=df.append({\"Date\":date,\"Open\":open_o,\"High\":high,\"Low\":low,\"Close\":close,\"Adjclose\":adjclose,\"Volume\":volume})\n",
    "    \n",
    "print(df.head())"
   ]
  },
  {
   "cell_type": "code",
   "execution_count": null,
   "id": "1ca1f957",
   "metadata": {},
   "outputs": [],
   "source": []
  }
 ],
 "metadata": {
  "kernelspec": {
   "display_name": "Python 3",
   "language": "python",
   "name": "python3"
  },
  "language_info": {
   "codemirror_mode": {
    "name": "ipython",
    "version": 3
   },
   "file_extension": ".py",
   "mimetype": "text/x-python",
   "name": "python",
   "nbconvert_exporter": "python",
   "pygments_lexer": "ipython3",
   "version": "3.9.1"
  }
 },
 "nbformat": 4,
 "nbformat_minor": 5
}
